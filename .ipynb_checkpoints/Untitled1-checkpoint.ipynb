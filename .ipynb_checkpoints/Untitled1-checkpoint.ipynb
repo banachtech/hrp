{
 "cells": [
  {
   "cell_type": "code",
   "execution_count": 1,
   "id": "fa63c99d",
   "metadata": {},
   "outputs": [],
   "source": [
    "import numpy as np\n",
    "import pandas as pd\n",
    "import scipy.cluster.hierarchy as sch"
   ]
  },
  {
   "cell_type": "code",
   "execution_count": 5,
   "id": "7509b1a7",
   "metadata": {},
   "outputs": [
    {
     "data": {
      "text/plain": [
       "array([[0.      , 0.59156 , 0.538264, 0.830425],\n",
       "       [0.59156 , 0.      , 0.520493, 0.616052],\n",
       "       [0.538264, 0.520493, 0.      , 0.761199],\n",
       "       [0.830425, 0.616052, 0.761199, 0.      ]])"
      ]
     },
     "execution_count": 5,
     "metadata": {},
     "output_type": "execute_result"
    }
   ],
   "source": [
    "D = np.array([[0.0, 0.59156, 0.538264, 0.830425],\n",
    " [0.59156, 0.0, 0.520493, 0.616052],\n",
    " [0.538264, 0.520493, 0.0, 0.761199],\n",
    " [0.830425, 0.616052, 0.761199, 0.0]])\n",
    "D"
   ]
  },
  {
   "cell_type": "code",
   "execution_count": 6,
   "id": "5e1310f0",
   "metadata": {},
   "outputs": [
    {
     "name": "stderr",
     "output_type": "stream",
     "text": [
      "<ipython-input-6-46ae4727c453>:1: ClusterWarning: scipy.cluster: The symmetric non-negative hollow observation matrix looks suspiciously like an uncondensed distance matrix\n",
      "  link = sch.linkage(D, 'single')\n"
     ]
    }
   ],
   "source": [
    "link = sch.linkage(D, 'single')"
   ]
  },
  {
   "cell_type": "code",
   "execution_count": 7,
   "id": "f8c066b4",
   "metadata": {},
   "outputs": [
    {
     "data": {
      "text/plain": [
       "array([[1.        , 2.        , 0.75215294, 2.        ],\n",
       "       [0.        , 4.        , 0.76765814, 3.        ],\n",
       "       [3.        , 5.        , 0.93489893, 4.        ]])"
      ]
     },
     "execution_count": 7,
     "metadata": {},
     "output_type": "execute_result"
    }
   ],
   "source": [
    "link"
   ]
  },
  {
   "cell_type": "code",
   "execution_count": 9,
   "id": "d5b87998",
   "metadata": {},
   "outputs": [
    {
     "data": {
      "text/plain": [
       "array([[1, 2, 0, 2],\n",
       "       [0, 4, 0, 3],\n",
       "       [3, 5, 0, 4]])"
      ]
     },
     "execution_count": 9,
     "metadata": {},
     "output_type": "execute_result"
    }
   ],
   "source": [
    "link = link.astype(int)\n",
    "link"
   ]
  },
  {
   "cell_type": "code",
   "execution_count": null,
   "id": "95cf0874",
   "metadata": {},
   "outputs": [],
   "source": []
  }
 ],
 "metadata": {
  "kernelspec": {
   "display_name": "Python 3",
   "language": "python",
   "name": "python3"
  },
  "language_info": {
   "codemirror_mode": {
    "name": "ipython",
    "version": 3
   },
   "file_extension": ".py",
   "mimetype": "text/x-python",
   "name": "python",
   "nbconvert_exporter": "python",
   "pygments_lexer": "ipython3",
   "version": "3.8.9"
  }
 },
 "nbformat": 4,
 "nbformat_minor": 5
}
