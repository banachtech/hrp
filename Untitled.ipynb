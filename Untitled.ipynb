{
 "cells": [
  {
   "cell_type": "code",
   "execution_count": 1,
   "id": "c77339fc",
   "metadata": {},
   "outputs": [],
   "source": [
    "import matplotlib.pyplot as mpl\n",
    "import scipy.cluster.hierarchy as sch\n",
    "import random, numpy as np\n",
    "import pandas as pd"
   ]
  },
  {
   "cell_type": "code",
   "execution_count": 3,
   "id": "90f69e84",
   "metadata": {},
   "outputs": [],
   "source": [
    "def getIVP(cov, **kargs):\n",
    "    # Compute the inverse-variance portfolio\n",
    "    \n",
    "    ivp = 1.0 / np.diag(cov)\n",
    "    ivp /= ivp.sum()\n",
    "    return ivp"
   ]
  },
  {
   "cell_type": "code",
   "execution_count": 4,
   "id": "0e381bc8",
   "metadata": {},
   "outputs": [],
   "source": [
    "def getClusterVar(cov, cItems):\n",
    "    # Compute variance per cluster\n",
    "    cov_ = cov.loc[cItems, cItems]  # matrix slice\n",
    "    w_ = getIVP(cov_).reshape(-1, 1)\n",
    "    cVar = np.dot(np.dot(w_.T, cov_), w_)[0, 0]\n",
    "    return cVar"
   ]
  },
  {
   "cell_type": "code",
   "execution_count": 5,
   "id": "f80e7fba",
   "metadata": {},
   "outputs": [],
   "source": [
    "def getQuasiDiag(link):\n",
    "    # Sort clustered items by distance\n",
    "    link = link.astype(int)\n",
    "    sortIx = pd.Series([link[-1, 0], link[-1, 1]])\n",
    "    numItems = link[-1, 3]  # number of original items while sortIx.max()>=numItems:\n",
    "    sortIx.index = range(0, sortIx.shape[0] * 2, 2)  # make space\n",
    "    df0 = sortIx[sortIx >= numItems]  # find clusters\n",
    "    i = df0.index\n",
    "    j = df0.values - numItems\n",
    "    sortIx[i] = link[j, 0]  # item 1\n",
    "    df0 = pd.Series(link[j, 1], index=i + 1)\n",
    "    sortIx = sortIx.append(df0)  # item 2\n",
    "    sortIx = sortIx.sort_index()  # re-sort \n",
    "    sortIx.index=range(sortIx.shape[0]) # re-index\n",
    "    return sortIx.tolist()"
   ]
  },
  {
   "cell_type": "code",
   "execution_count": 27,
   "id": "b2385bd3",
   "metadata": {},
   "outputs": [],
   "source": [
    "def getRecBipart(cov, sortIx):\n",
    "    # Compute HRP alloc\n",
    "    w = pd.Series(1, index=sortIx)\n",
    "    cItems = [sortIx]  # initialize all items in one cluster\n",
    "    while len(cItems) > 0:\n",
    "        cItems = [i[j:k] for i in cItems for j, k in ((0, int(len(i) / 2)), (int(len(i) / 2), len(i))) if len(i) > 1]  # bi-section\n",
    "    for i in range(0, len(cItems), 2):  # parse in pairs\n",
    "        cItems0 = cItems[i]  # cluster 1\n",
    "        cItems1 = cItems[i + 1]  # cluster 2\n",
    "        cVar0 = getClusterVar(cov, cItems0)\n",
    "        cVar1 = getClusterVar(cov, cItems1)\n",
    "        alpha = 1 - cVar0 / (cVar0 + cVar1)\n",
    "        w[cItems0] *= alpha  # weight 1\n",
    "        w[cItems1] *= 1 - alpha  # weight 2\n",
    "    return w"
   ]
  },
  {
   "cell_type": "code",
   "execution_count": 7,
   "id": "c9adab96",
   "metadata": {},
   "outputs": [],
   "source": [
    "def correlDist(corr):\n",
    "    # A distance matrix based on correlation, where 0<=d[i,j]<=1\n",
    "    # # This is a proper distance metric\n",
    "    dist = ((1 - corr) / 2.0) ** 0.5  # distance matrix\n",
    "    return dist"
   ]
  },
  {
   "cell_type": "code",
   "execution_count": 8,
   "id": "8abf29f4",
   "metadata": {},
   "outputs": [],
   "source": [
    "def plotCorrMatrix(path, corr, labels=None):\n",
    "    # Heatmap of the correlation matrix\n",
    "    if labels is None:\n",
    "        labels = []\n",
    "    mpl.pcolor(corr)\n",
    "    mpl.colorbar()\n",
    "    mpl.yticks(np.arange(0.5, corr.shape[0] + 0.5), labels)\n",
    "    mpl.xticks(np.arange(0.5, corr.shape[0] + 0.5), labels)\n",
    "    mpl.savefig(path)\n",
    "    mpl.clf()\n",
    "    mpl.close()  # reset pylab\n",
    "    return"
   ]
  },
  {
   "cell_type": "code",
   "execution_count": 9,
   "id": "a5c72845",
   "metadata": {},
   "outputs": [],
   "source": [
    "def generateData(nObs, size0, size1, sigma1):\n",
    "    # Time series of correlated variables\n",
    "    # 1) generating some uncorrelated data\n",
    "    np.random.seed(seed=12345)\n",
    "    random.seed(12345)\n",
    "    x = np.random.normal(\n",
    "        0, 1, size=(nObs, size0)\n",
    "    )  # each row is a variable #2) creating correlation between the variables\n",
    "    cols = [random.randint(0, size0 - 1) for i in range(size1)]\n",
    "    y = x[:, cols] + np.random.normal(0, sigma1, size=(nObs, len(cols)))\n",
    "    x = np.append(x, y, axis=1)\n",
    "    x = pd.DataFrame(x, columns=range(1, x.shape[1] + 1))\n",
    "    return x, cols"
   ]
  },
  {
   "cell_type": "markdown",
   "id": "c76a7aec",
   "metadata": {},
   "source": [
    "### Fake data"
   ]
  },
  {
   "cell_type": "code",
   "execution_count": 30,
   "id": "735e01d8",
   "metadata": {},
   "outputs": [
    {
     "data": {
      "text/html": [
       "<div>\n",
       "<style scoped>\n",
       "    .dataframe tbody tr th:only-of-type {\n",
       "        vertical-align: middle;\n",
       "    }\n",
       "\n",
       "    .dataframe tbody tr th {\n",
       "        vertical-align: top;\n",
       "    }\n",
       "\n",
       "    .dataframe thead th {\n",
       "        text-align: right;\n",
       "    }\n",
       "</style>\n",
       "<table border=\"1\" class=\"dataframe\">\n",
       "  <thead>\n",
       "    <tr style=\"text-align: right;\">\n",
       "      <th></th>\n",
       "      <th>1</th>\n",
       "      <th>2</th>\n",
       "      <th>3</th>\n",
       "      <th>4</th>\n",
       "      <th>5</th>\n",
       "      <th>6</th>\n",
       "      <th>7</th>\n",
       "      <th>8</th>\n",
       "    </tr>\n",
       "  </thead>\n",
       "  <tbody>\n",
       "    <tr>\n",
       "      <th>1</th>\n",
       "      <td>1.000000</td>\n",
       "      <td>-0.010996</td>\n",
       "      <td>0.043575</td>\n",
       "      <td>0.024174</td>\n",
       "      <td>0.035620</td>\n",
       "      <td>0.968839</td>\n",
       "      <td>0.047185</td>\n",
       "      <td>0.037545</td>\n",
       "    </tr>\n",
       "    <tr>\n",
       "      <th>2</th>\n",
       "      <td>-0.010996</td>\n",
       "      <td>1.000000</td>\n",
       "      <td>-0.073142</td>\n",
       "      <td>-0.020205</td>\n",
       "      <td>-0.015215</td>\n",
       "      <td>-0.002165</td>\n",
       "      <td>-0.073014</td>\n",
       "      <td>-0.073288</td>\n",
       "    </tr>\n",
       "    <tr>\n",
       "      <th>3</th>\n",
       "      <td>0.043575</td>\n",
       "      <td>-0.073142</td>\n",
       "      <td>1.000000</td>\n",
       "      <td>0.004278</td>\n",
       "      <td>0.004748</td>\n",
       "      <td>0.043256</td>\n",
       "      <td>0.971126</td>\n",
       "      <td>0.972760</td>\n",
       "    </tr>\n",
       "    <tr>\n",
       "      <th>4</th>\n",
       "      <td>0.024174</td>\n",
       "      <td>-0.020205</td>\n",
       "      <td>0.004278</td>\n",
       "      <td>1.000000</td>\n",
       "      <td>0.971339</td>\n",
       "      <td>0.020241</td>\n",
       "      <td>0.010952</td>\n",
       "      <td>0.001898</td>\n",
       "    </tr>\n",
       "    <tr>\n",
       "      <th>5</th>\n",
       "      <td>0.035620</td>\n",
       "      <td>-0.015215</td>\n",
       "      <td>0.004748</td>\n",
       "      <td>0.971339</td>\n",
       "      <td>1.000000</td>\n",
       "      <td>0.030694</td>\n",
       "      <td>0.011269</td>\n",
       "      <td>0.003045</td>\n",
       "    </tr>\n",
       "    <tr>\n",
       "      <th>6</th>\n",
       "      <td>0.968839</td>\n",
       "      <td>-0.002165</td>\n",
       "      <td>0.043256</td>\n",
       "      <td>0.020241</td>\n",
       "      <td>0.030694</td>\n",
       "      <td>1.000000</td>\n",
       "      <td>0.046877</td>\n",
       "      <td>0.036388</td>\n",
       "    </tr>\n",
       "    <tr>\n",
       "      <th>7</th>\n",
       "      <td>0.047185</td>\n",
       "      <td>-0.073014</td>\n",
       "      <td>0.971126</td>\n",
       "      <td>0.010952</td>\n",
       "      <td>0.011269</td>\n",
       "      <td>0.046877</td>\n",
       "      <td>1.000000</td>\n",
       "      <td>0.944847</td>\n",
       "    </tr>\n",
       "    <tr>\n",
       "      <th>8</th>\n",
       "      <td>0.037545</td>\n",
       "      <td>-0.073288</td>\n",
       "      <td>0.972760</td>\n",
       "      <td>0.001898</td>\n",
       "      <td>0.003045</td>\n",
       "      <td>0.036388</td>\n",
       "      <td>0.944847</td>\n",
       "      <td>1.000000</td>\n",
       "    </tr>\n",
       "  </tbody>\n",
       "</table>\n",
       "</div>"
      ],
      "text/plain": [
       "          1         2         3         4         5         6         7  \\\n",
       "1  1.000000 -0.010996  0.043575  0.024174  0.035620  0.968839  0.047185   \n",
       "2 -0.010996  1.000000 -0.073142 -0.020205 -0.015215 -0.002165 -0.073014   \n",
       "3  0.043575 -0.073142  1.000000  0.004278  0.004748  0.043256  0.971126   \n",
       "4  0.024174 -0.020205  0.004278  1.000000  0.971339  0.020241  0.010952   \n",
       "5  0.035620 -0.015215  0.004748  0.971339  1.000000  0.030694  0.011269   \n",
       "6  0.968839 -0.002165  0.043256  0.020241  0.030694  1.000000  0.046877   \n",
       "7  0.047185 -0.073014  0.971126  0.010952  0.011269  0.046877  1.000000   \n",
       "8  0.037545 -0.073288  0.972760  0.001898  0.003045  0.036388  0.944847   \n",
       "\n",
       "          8  \n",
       "1  0.037545  \n",
       "2 -0.073288  \n",
       "3  0.972760  \n",
       "4  0.001898  \n",
       "5  0.003045  \n",
       "6  0.036388  \n",
       "7  0.944847  \n",
       "8  1.000000  "
      ]
     },
     "execution_count": 30,
     "metadata": {},
     "output_type": "execute_result"
    }
   ],
   "source": [
    "nObs, size0, size1, sigma1 = 1000, 4, 4, 0.25\n",
    "x, cols = generateData(nObs, size0, size1, sigma1)\n",
    "cov, corr = x.cov(), x.corr()\n",
    "corr"
   ]
  },
  {
   "cell_type": "code",
   "execution_count": 13,
   "id": "6ab32623",
   "metadata": {},
   "outputs": [],
   "source": [
    "plotCorrMatrix(\"HRP3_corr0.png\", corr, labels=corr.columns)"
   ]
  },
  {
   "cell_type": "code",
   "execution_count": 31,
   "id": "23b0e0d1",
   "metadata": {},
   "outputs": [
    {
     "data": {
      "text/html": [
       "<div>\n",
       "<style scoped>\n",
       "    .dataframe tbody tr th:only-of-type {\n",
       "        vertical-align: middle;\n",
       "    }\n",
       "\n",
       "    .dataframe tbody tr th {\n",
       "        vertical-align: top;\n",
       "    }\n",
       "\n",
       "    .dataframe thead th {\n",
       "        text-align: right;\n",
       "    }\n",
       "</style>\n",
       "<table border=\"1\" class=\"dataframe\">\n",
       "  <thead>\n",
       "    <tr style=\"text-align: right;\">\n",
       "      <th></th>\n",
       "      <th>1</th>\n",
       "      <th>2</th>\n",
       "      <th>3</th>\n",
       "      <th>4</th>\n",
       "      <th>5</th>\n",
       "      <th>6</th>\n",
       "      <th>7</th>\n",
       "      <th>8</th>\n",
       "    </tr>\n",
       "  </thead>\n",
       "  <tbody>\n",
       "    <tr>\n",
       "      <th>1</th>\n",
       "      <td>0.000000</td>\n",
       "      <td>0.710984</td>\n",
       "      <td>0.691529</td>\n",
       "      <td>0.698508</td>\n",
       "      <td>0.694399</td>\n",
       "      <td>0.124823</td>\n",
       "      <td>0.690223</td>\n",
       "      <td>0.693706</td>\n",
       "    </tr>\n",
       "    <tr>\n",
       "      <th>2</th>\n",
       "      <td>0.710984</td>\n",
       "      <td>0.000000</td>\n",
       "      <td>0.732510</td>\n",
       "      <td>0.714215</td>\n",
       "      <td>0.712466</td>\n",
       "      <td>0.707872</td>\n",
       "      <td>0.732466</td>\n",
       "      <td>0.732560</td>\n",
       "    </tr>\n",
       "    <tr>\n",
       "      <th>3</th>\n",
       "      <td>0.691529</td>\n",
       "      <td>0.732510</td>\n",
       "      <td>0.000000</td>\n",
       "      <td>0.705593</td>\n",
       "      <td>0.705426</td>\n",
       "      <td>0.691645</td>\n",
       "      <td>0.120155</td>\n",
       "      <td>0.116705</td>\n",
       "    </tr>\n",
       "    <tr>\n",
       "      <th>4</th>\n",
       "      <td>0.698508</td>\n",
       "      <td>0.714215</td>\n",
       "      <td>0.705593</td>\n",
       "      <td>0.000000</td>\n",
       "      <td>0.119710</td>\n",
       "      <td>0.699914</td>\n",
       "      <td>0.703224</td>\n",
       "      <td>0.706435</td>\n",
       "    </tr>\n",
       "    <tr>\n",
       "      <th>5</th>\n",
       "      <td>0.694399</td>\n",
       "      <td>0.712466</td>\n",
       "      <td>0.705426</td>\n",
       "      <td>0.119710</td>\n",
       "      <td>0.000000</td>\n",
       "      <td>0.696170</td>\n",
       "      <td>0.703111</td>\n",
       "      <td>0.706029</td>\n",
       "    </tr>\n",
       "    <tr>\n",
       "      <th>6</th>\n",
       "      <td>0.124823</td>\n",
       "      <td>0.707872</td>\n",
       "      <td>0.691645</td>\n",
       "      <td>0.699914</td>\n",
       "      <td>0.696170</td>\n",
       "      <td>0.000000</td>\n",
       "      <td>0.690334</td>\n",
       "      <td>0.694122</td>\n",
       "    </tr>\n",
       "    <tr>\n",
       "      <th>7</th>\n",
       "      <td>0.690223</td>\n",
       "      <td>0.732466</td>\n",
       "      <td>0.120155</td>\n",
       "      <td>0.703224</td>\n",
       "      <td>0.703111</td>\n",
       "      <td>0.690334</td>\n",
       "      <td>0.000000</td>\n",
       "      <td>0.166062</td>\n",
       "    </tr>\n",
       "    <tr>\n",
       "      <th>8</th>\n",
       "      <td>0.693706</td>\n",
       "      <td>0.732560</td>\n",
       "      <td>0.116705</td>\n",
       "      <td>0.706435</td>\n",
       "      <td>0.706029</td>\n",
       "      <td>0.694122</td>\n",
       "      <td>0.166062</td>\n",
       "      <td>0.000000</td>\n",
       "    </tr>\n",
       "  </tbody>\n",
       "</table>\n",
       "</div>"
      ],
      "text/plain": [
       "          1         2         3         4         5         6         7  \\\n",
       "1  0.000000  0.710984  0.691529  0.698508  0.694399  0.124823  0.690223   \n",
       "2  0.710984  0.000000  0.732510  0.714215  0.712466  0.707872  0.732466   \n",
       "3  0.691529  0.732510  0.000000  0.705593  0.705426  0.691645  0.120155   \n",
       "4  0.698508  0.714215  0.705593  0.000000  0.119710  0.699914  0.703224   \n",
       "5  0.694399  0.712466  0.705426  0.119710  0.000000  0.696170  0.703111   \n",
       "6  0.124823  0.707872  0.691645  0.699914  0.696170  0.000000  0.690334   \n",
       "7  0.690223  0.732466  0.120155  0.703224  0.703111  0.690334  0.000000   \n",
       "8  0.693706  0.732560  0.116705  0.706435  0.706029  0.694122  0.166062   \n",
       "\n",
       "          8  \n",
       "1  0.693706  \n",
       "2  0.732560  \n",
       "3  0.116705  \n",
       "4  0.706435  \n",
       "5  0.706029  \n",
       "6  0.694122  \n",
       "7  0.166062  \n",
       "8  0.000000  "
      ]
     },
     "execution_count": 31,
     "metadata": {},
     "output_type": "execute_result"
    }
   ],
   "source": [
    "dist = correlDist(corr)\n",
    "dist"
   ]
  },
  {
   "cell_type": "code",
   "execution_count": 32,
   "id": "616a85d9",
   "metadata": {},
   "outputs": [
    {
     "name": "stderr",
     "output_type": "stream",
     "text": [
      "<ipython-input-32-f4c3fa8705f4>:1: ClusterWarning: scipy.cluster: The symmetric non-negative hollow observation matrix looks suspiciously like an uncondensed distance matrix\n",
      "  link = sch.linkage(dist, \"single\")\n"
     ]
    },
    {
     "data": {
      "text/plain": [
       "array([[ 3.        ,  4.        ,  0.16939681,  2.        ],\n",
       "       [ 2.        ,  7.        ,  0.17134564,  2.        ],\n",
       "       [ 0.        ,  5.        ,  0.17656863,  2.        ],\n",
       "       [ 6.        ,  9.        ,  0.17698849,  3.        ],\n",
       "       [ 1.        , 10.        ,  1.16238644,  3.        ],\n",
       "       [ 8.        , 12.        ,  1.17105159,  5.        ],\n",
       "       [11.        , 13.        ,  1.33036086,  8.        ]])"
      ]
     },
     "execution_count": 32,
     "metadata": {},
     "output_type": "execute_result"
    }
   ],
   "source": [
    "link = sch.linkage(dist, \"single\")\n",
    "link"
   ]
  },
  {
   "cell_type": "code",
   "execution_count": 17,
   "id": "e5f1e23b",
   "metadata": {},
   "outputs": [
    {
     "data": {
      "text/plain": [
       "[0, 3, 1, 2]"
      ]
     },
     "execution_count": 17,
     "metadata": {},
     "output_type": "execute_result"
    }
   ],
   "source": [
    "sortIx = getQuasiDiag(link)\n",
    "sortIx"
   ]
  },
  {
   "cell_type": "code",
   "execution_count": 18,
   "id": "5666cd30",
   "metadata": {},
   "outputs": [
    {
     "data": {
      "text/plain": [
       "[1, 4, 2, 3]"
      ]
     },
     "execution_count": 18,
     "metadata": {},
     "output_type": "execute_result"
    }
   ],
   "source": [
    "sortIx = corr.index[sortIx].tolist()  # recover labels\n",
    "sortIx"
   ]
  },
  {
   "cell_type": "code",
   "execution_count": 19,
   "id": "6f02fe98",
   "metadata": {},
   "outputs": [],
   "source": [
    "df0 = corr.loc[sortIx, sortIx]  # reorder\n",
    "plotCorrMatrix(\"HRP3_corr1.png\", df0, labels=df0.columns)"
   ]
  },
  {
   "cell_type": "code",
   "execution_count": 20,
   "id": "32c6dddd",
   "metadata": {},
   "outputs": [
    {
     "data": {
      "text/html": [
       "<div>\n",
       "<style scoped>\n",
       "    .dataframe tbody tr th:only-of-type {\n",
       "        vertical-align: middle;\n",
       "    }\n",
       "\n",
       "    .dataframe tbody tr th {\n",
       "        vertical-align: top;\n",
       "    }\n",
       "\n",
       "    .dataframe thead th {\n",
       "        text-align: right;\n",
       "    }\n",
       "</style>\n",
       "<table border=\"1\" class=\"dataframe\">\n",
       "  <thead>\n",
       "    <tr style=\"text-align: right;\">\n",
       "      <th></th>\n",
       "      <th>1</th>\n",
       "      <th>4</th>\n",
       "      <th>2</th>\n",
       "      <th>3</th>\n",
       "    </tr>\n",
       "  </thead>\n",
       "  <tbody>\n",
       "    <tr>\n",
       "      <th>1</th>\n",
       "      <td>1.000000</td>\n",
       "      <td>0.970802</td>\n",
       "      <td>-0.005833</td>\n",
       "      <td>-0.003910</td>\n",
       "    </tr>\n",
       "    <tr>\n",
       "      <th>4</th>\n",
       "      <td>0.970802</td>\n",
       "      <td>1.000000</td>\n",
       "      <td>-0.010860</td>\n",
       "      <td>-0.009077</td>\n",
       "    </tr>\n",
       "    <tr>\n",
       "      <th>2</th>\n",
       "      <td>-0.005833</td>\n",
       "      <td>-0.010860</td>\n",
       "      <td>1.000000</td>\n",
       "      <td>0.969505</td>\n",
       "    </tr>\n",
       "    <tr>\n",
       "      <th>3</th>\n",
       "      <td>-0.003910</td>\n",
       "      <td>-0.009077</td>\n",
       "      <td>0.969505</td>\n",
       "      <td>1.000000</td>\n",
       "    </tr>\n",
       "  </tbody>\n",
       "</table>\n",
       "</div>"
      ],
      "text/plain": [
       "          1         4         2         3\n",
       "1  1.000000  0.970802 -0.005833 -0.003910\n",
       "4  0.970802  1.000000 -0.010860 -0.009077\n",
       "2 -0.005833 -0.010860  1.000000  0.969505\n",
       "3 -0.003910 -0.009077  0.969505  1.000000"
      ]
     },
     "execution_count": 20,
     "metadata": {},
     "output_type": "execute_result"
    }
   ],
   "source": [
    "df0"
   ]
  },
  {
   "cell_type": "code",
   "execution_count": 28,
   "id": "6f4bd8ee",
   "metadata": {},
   "outputs": [],
   "source": [
    "hrp = getRecBipart(cov, sortIx)"
   ]
  },
  {
   "cell_type": "code",
   "execution_count": 29,
   "id": "9eedfaea",
   "metadata": {},
   "outputs": [
    {
     "data": {
      "text/plain": [
       "1    1\n",
       "4    1\n",
       "2    1\n",
       "3    1\n",
       "dtype: int64"
      ]
     },
     "execution_count": 29,
     "metadata": {},
     "output_type": "execute_result"
    }
   ],
   "source": [
    "hrp"
   ]
  },
  {
   "cell_type": "code",
   "execution_count": null,
   "id": "779d47a0",
   "metadata": {},
   "outputs": [],
   "source": []
  }
 ],
 "metadata": {
  "kernelspec": {
   "display_name": "Python 3",
   "language": "python",
   "name": "python3"
  },
  "language_info": {
   "codemirror_mode": {
    "name": "ipython",
    "version": 3
   },
   "file_extension": ".py",
   "mimetype": "text/x-python",
   "name": "python",
   "nbconvert_exporter": "python",
   "pygments_lexer": "ipython3",
   "version": "3.8.9"
  }
 },
 "nbformat": 4,
 "nbformat_minor": 5
}
