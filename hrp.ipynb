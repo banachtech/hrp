{
 "cells": [
  {
   "cell_type": "markdown",
   "id": "46c5b0f1",
   "metadata": {},
   "source": [
    "# Risk Parity & Hierarchical Risk Parity"
   ]
  },
  {
   "cell_type": "code",
   "execution_count": 1,
   "id": "62d57063",
   "metadata": {},
   "outputs": [
    {
     "data": {
      "text/plain": [
       "Main.HRP"
      ]
     },
     "execution_count": 1,
     "metadata": {},
     "output_type": "execute_result"
    }
   ],
   "source": [
    "using CSV, DataFrames\n",
    "include(\"HRP.jl\")"
   ]
  },
  {
   "cell_type": "markdown",
   "id": "76f2fb2d",
   "metadata": {},
   "source": [
    "## Data\n",
    "\n",
    "Get price data for current RETIS portfolio."
   ]
  },
  {
   "cell_type": "code",
   "execution_count": 2,
   "id": "a25bbb04",
   "metadata": {},
   "outputs": [
    {
     "data": {
      "text/plain": [
       "(261, 30)"
      ]
     },
     "execution_count": 2,
     "metadata": {},
     "output_type": "execute_result"
    }
   ],
   "source": [
    "reits = DataFrame(CSV.File(\"reits_px.csv\", missingstring=[\"\",\" \", \"#N/A N/A\"], \n",
    "        dateformat=\"yyyy-mm-dd\"))\n",
    "size(reits)"
   ]
  },
  {
   "cell_type": "markdown",
   "id": "6675f5a2",
   "metadata": {},
   "source": [
    "Calculate log returns."
   ]
  },
  {
   "cell_type": "code",
   "execution_count": 3,
   "id": "8d7ebd7f",
   "metadata": {},
   "outputs": [],
   "source": [
    "rx = reits[2:end, :]\n",
    "rx[:,2:end] .= log.(reits[2:end, 2:end]) .- log.(reits[1:end-1,2:end])\n",
    "assets = names(rx)[2:end]\n",
    "rx = Matrix(rx[:, 2:end])\n",
    "nothing"
   ]
  },
  {
   "cell_type": "markdown",
   "id": "b16bdf02",
   "metadata": {},
   "source": [
    "## Risk Parity & Hierarchical Risk Parity Weights"
   ]
  },
  {
   "cell_type": "code",
   "execution_count": 4,
   "id": "6d6d5a46",
   "metadata": {},
   "outputs": [
    {
     "data": {
      "text/html": [
       "<div class=\"data-frame\"><p>29 rows × 3 columns</p><table class=\"data-frame\"><thead><tr><th></th><th>reits</th><th>rp</th><th>hrp</th></tr><tr><th></th><th title=\"String\">String</th><th title=\"Float64\">Float64</th><th title=\"Float64\">Float64</th></tr></thead><tbody><tr><th>1</th><td>ACC US Equity</td><td>0.0226612</td><td>0.040931</td></tr><tr><th>2</th><td>AHH US Equity</td><td>0.0199144</td><td>0.028058</td></tr><tr><th>3</th><td>AMH US Equity</td><td>0.0400304</td><td>0.0188801</td></tr><tr><th>4</th><td>ARE US Equity</td><td>0.0601371</td><td>0.0147081</td></tr><tr><th>5</th><td>BHR US Equity</td><td>0.00601865</td><td>0.063024</td></tr><tr><th>6</th><td>CCI US Equity</td><td>0.0530213</td><td>0.0174938</td></tr><tr><th>7</th><td>CPT US Equity</td><td>0.0415716</td><td>0.0289677</td></tr><tr><th>8</th><td>DEA US Equity</td><td>0.0838388</td><td>0.01055</td></tr><tr><th>9</th><td>DLR US Equity</td><td>0.0504967</td><td>0.0193964</td></tr><tr><th>10</th><td>EQIX US Equity</td><td>0.0481485</td><td>0.0203424</td></tr><tr><th>11</th><td>FPI US Equity</td><td>0.0211815</td><td>0.0212788</td></tr><tr><th>12</th><td>HASI US Equity</td><td>0.0177517</td><td>0.0213681</td></tr><tr><th>13</th><td>HST US Equity</td><td>0.0273614</td><td>0.0187003</td></tr><tr><th>14</th><td>HTA US Equity</td><td>0.0390095</td><td>0.0308703</td></tr><tr><th>15</th><td>IIPR US Equity</td><td>0.0126566</td><td>0.122381</td></tr><tr><th>16</th><td>IRM US Equity</td><td>0.0356887</td><td>0.0156564</td></tr><tr><th>17</th><td>KRC US Equity</td><td>0.0349138</td><td>0.0219725</td></tr><tr><th>18</th><td>KREF US Equity</td><td>0.0209217</td><td>0.0393352</td></tr><tr><th>19</th><td>LAND US Equity</td><td>0.0450387</td><td>0.0100073</td></tr><tr><th>20</th><td>LSI US Equity</td><td>0.0394445</td><td>0.0224468</td></tr><tr><th>21</th><td>MPW US Equity</td><td>0.0302674</td><td>0.0728892</td></tr><tr><th>22</th><td>NLCP US Equity</td><td>0.0591021</td><td>0.0127876</td></tr><tr><th>23</th><td>NNN US Equity</td><td>0.0214656</td><td>0.0412476</td></tr><tr><th>24</th><td>PSA US Equity</td><td>0.0642257</td><td>0.0128135</td></tr><tr><th>25</th><td>PW US Equity</td><td>0.00936976</td><td>0.139422</td></tr><tr><th>26</th><td>SAFE US Equity</td><td>0.0194928</td><td>0.0393554</td></tr><tr><th>27</th><td>SBAC US Equity</td><td>0.0472967</td><td>0.013863</td></tr><tr><th>28</th><td>SPG US Equity</td><td>0.0120111</td><td>0.0425995</td></tr><tr><th>29</th><td>STWD US Equity</td><td>0.0169624</td><td>0.0386545</td></tr></tbody></table></div>"
      ],
      "text/latex": [
       "\\begin{tabular}{r|ccc}\n",
       "\t& reits & rp & hrp\\\\\n",
       "\t\\hline\n",
       "\t& String & Float64 & Float64\\\\\n",
       "\t\\hline\n",
       "\t1 & ACC US Equity & 0.0226612 & 0.040931 \\\\\n",
       "\t2 & AHH US Equity & 0.0199144 & 0.028058 \\\\\n",
       "\t3 & AMH US Equity & 0.0400304 & 0.0188801 \\\\\n",
       "\t4 & ARE US Equity & 0.0601371 & 0.0147081 \\\\\n",
       "\t5 & BHR US Equity & 0.00601865 & 0.063024 \\\\\n",
       "\t6 & CCI US Equity & 0.0530213 & 0.0174938 \\\\\n",
       "\t7 & CPT US Equity & 0.0415716 & 0.0289677 \\\\\n",
       "\t8 & DEA US Equity & 0.0838388 & 0.01055 \\\\\n",
       "\t9 & DLR US Equity & 0.0504967 & 0.0193964 \\\\\n",
       "\t10 & EQIX US Equity & 0.0481485 & 0.0203424 \\\\\n",
       "\t11 & FPI US Equity & 0.0211815 & 0.0212788 \\\\\n",
       "\t12 & HASI US Equity & 0.0177517 & 0.0213681 \\\\\n",
       "\t13 & HST US Equity & 0.0273614 & 0.0187003 \\\\\n",
       "\t14 & HTA US Equity & 0.0390095 & 0.0308703 \\\\\n",
       "\t15 & IIPR US Equity & 0.0126566 & 0.122381 \\\\\n",
       "\t16 & IRM US Equity & 0.0356887 & 0.0156564 \\\\\n",
       "\t17 & KRC US Equity & 0.0349138 & 0.0219725 \\\\\n",
       "\t18 & KREF US Equity & 0.0209217 & 0.0393352 \\\\\n",
       "\t19 & LAND US Equity & 0.0450387 & 0.0100073 \\\\\n",
       "\t20 & LSI US Equity & 0.0394445 & 0.0224468 \\\\\n",
       "\t21 & MPW US Equity & 0.0302674 & 0.0728892 \\\\\n",
       "\t22 & NLCP US Equity & 0.0591021 & 0.0127876 \\\\\n",
       "\t23 & NNN US Equity & 0.0214656 & 0.0412476 \\\\\n",
       "\t24 & PSA US Equity & 0.0642257 & 0.0128135 \\\\\n",
       "\t25 & PW US Equity & 0.00936976 & 0.139422 \\\\\n",
       "\t26 & SAFE US Equity & 0.0194928 & 0.0393554 \\\\\n",
       "\t27 & SBAC US Equity & 0.0472967 & 0.013863 \\\\\n",
       "\t28 & SPG US Equity & 0.0120111 & 0.0425995 \\\\\n",
       "\t29 & STWD US Equity & 0.0169624 & 0.0386545 \\\\\n",
       "\\end{tabular}\n"
      ],
      "text/plain": [
       "\u001b[1m29×3 DataFrame\u001b[0m\n",
       "\u001b[1m Row \u001b[0m│\u001b[1m reits          \u001b[0m\u001b[1m rp         \u001b[0m\u001b[1m hrp       \u001b[0m\n",
       "\u001b[1m     \u001b[0m│\u001b[90m String         \u001b[0m\u001b[90m Float64    \u001b[0m\u001b[90m Float64   \u001b[0m\n",
       "─────┼───────────────────────────────────────\n",
       "   1 │ ACC US Equity   0.0226612   0.040931\n",
       "   2 │ AHH US Equity   0.0199144   0.028058\n",
       "   3 │ AMH US Equity   0.0400304   0.0188801\n",
       "   4 │ ARE US Equity   0.0601371   0.0147081\n",
       "   5 │ BHR US Equity   0.00601865  0.063024\n",
       "   6 │ CCI US Equity   0.0530213   0.0174938\n",
       "   7 │ CPT US Equity   0.0415716   0.0289677\n",
       "   8 │ DEA US Equity   0.0838388   0.01055\n",
       "   9 │ DLR US Equity   0.0504967   0.0193964\n",
       "  10 │ EQIX US Equity  0.0481485   0.0203424\n",
       "  11 │ FPI US Equity   0.0211815   0.0212788\n",
       "  ⋮  │       ⋮             ⋮           ⋮\n",
       "  20 │ LSI US Equity   0.0394445   0.0224468\n",
       "  21 │ MPW US Equity   0.0302674   0.0728892\n",
       "  22 │ NLCP US Equity  0.0591021   0.0127876\n",
       "  23 │ NNN US Equity   0.0214656   0.0412476\n",
       "  24 │ PSA US Equity   0.0642257   0.0128135\n",
       "  25 │ PW US Equity    0.00936976  0.139422\n",
       "  26 │ SAFE US Equity  0.0194928   0.0393554\n",
       "  27 │ SBAC US Equity  0.0472967   0.013863\n",
       "  28 │ SPG US Equity   0.0120111   0.0425995\n",
       "  29 │ STWD US Equity  0.0169624   0.0386545\n",
       "\u001b[36m                               8 rows omitted\u001b[0m"
      ]
     },
     "execution_count": 4,
     "metadata": {},
     "output_type": "execute_result"
    }
   ],
   "source": [
    "rp_wt, hrp_wt = HRP.hrp(rx)\n",
    "wt = DataFrame(:reits => assets, :rp => rp_wt, :hrp => hrp_wt)"
   ]
  },
  {
   "cell_type": "code",
   "execution_count": 5,
   "id": "32aa5fe3",
   "metadata": {},
   "outputs": [
    {
     "data": {
      "text/plain": [
       "\"reits_rp_hrp_wt.csv\""
      ]
     },
     "execution_count": 5,
     "metadata": {},
     "output_type": "execute_result"
    }
   ],
   "source": [
    "CSV.write(\"reits_rp_hrp_wt.csv\", wt)"
   ]
  }
 ],
 "metadata": {
  "kernelspec": {
   "display_name": "Julia 1.7.1",
   "language": "julia",
   "name": "julia-1.7"
  },
  "language_info": {
   "file_extension": ".jl",
   "mimetype": "application/julia",
   "name": "julia",
   "version": "1.7.1"
  }
 },
 "nbformat": 4,
 "nbformat_minor": 5
}
